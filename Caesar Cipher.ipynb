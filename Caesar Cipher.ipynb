{
 "cells": [
  {
   "cell_type": "markdown",
   "metadata": {},
   "source": [
    "# Building a Caesar Cipher and Decipher"
   ]
  },
  {
   "cell_type": "code",
   "execution_count": null,
   "metadata": {},
   "outputs": [],
   "source": [
    "# The Caesar Cipher, used by Julius Caesar around 58 BC, is a substitution cipher that shifts letters in a message to make it \n",
    "# unreadable if intercepted. To decrypt, the receiver reverses the shift.\n",
    "\n",
    "# In  Caesar cipher every single letter is always encrypted with the same letter, depending on the specified offset.\n",
    "\n",
    "\n",
    "# Encrypting the text\n",
    "def caesar_cipher(message, offset):\n",
    "    \n",
    "    alphabet = 'abcdefghijklmnopqrstuvwxyz'\n",
    "    encrypted_text = ''\n",
    "    \n",
    "    for char in message.lower():\n",
    "        #Appending any non-letter character to the message\n",
    "        if not char.isalpha():\n",
    "            encrypted_text += char\n",
    "        else:\n",
    "            index = alphabet.find(char)\n",
    "            new_index = (index + offset) % len(alphabet)\n",
    "            encrypted_text += alphabet[new_index]\n",
    "    print(\"\\nEncrypted text message is:  \", encrypted_text)\n",
    "    \n",
    "# Decrypting the text\n",
    "def caesar_decipher(message, offset):\n",
    "    \n",
    "    alphabet = 'abcdefghijklmnopqrstuvwxyz'\n",
    "    decrypted_text = ''\n",
    "    \n",
    "    for char in message.lower():\n",
    "        #Appending any non-letter character to the message\n",
    "        if not char.isalpha():\n",
    "            decrypted_text += char\n",
    "        else:\n",
    "            index = alphabet.find(char)\n",
    "            new_index = (index - offset) % len(alphabet)\n",
    "            decrypted_text += alphabet[new_index]\n",
    "    print(\"\\nDecrypted text message is:  \", decrypted_text)\n",
    "\n",
    "# Asking for encryption or decryption\n",
    "def main():\n",
    "    \n",
    "    choice = input(\"\\nDo you want to encrypt or decrypt the text message?  \")\n",
    "\n",
    "    if choice == 'encrypt':\n",
    "        text = input(\"\\nEnter a text to encrypt:  \")\n",
    "        shift = int(input(\"What is the offset/shift (Enter a number):  \"))\n",
    "        caesar_cipher(text, shift)\n",
    "\n",
    "    elif choice == 'decrypt':\n",
    "        text = input(\"\\nEnter the text to decrypt:  \")\n",
    "        shift = int(input(\"What is the offset/shift (Enter a number):  \"))\n",
    "        caesar_decipher(text, shift)\n",
    "\n",
    "    else:\n",
    "        print(\"\\nEnter properly (encrypt or decrypt)\")\n",
    "        main()\n",
    "\n",
    "print(\"<<<<<  Welcome to Caesar Cipher / Decipher >>>>>\")\n",
    "main()"
   ]
  }
 ],
 "metadata": {
  "celltoolbar": "Raw Cell Format",
  "kernelspec": {
   "display_name": "Python 3",
   "language": "python",
   "name": "python3"
  },
  "language_info": {
   "codemirror_mode": {
    "name": "ipython",
    "version": 3
   },
   "file_extension": ".py",
   "mimetype": "text/x-python",
   "name": "python",
   "nbconvert_exporter": "python",
   "pygments_lexer": "ipython3",
   "version": "3.8.5"
  }
 },
 "nbformat": 4,
 "nbformat_minor": 4
}
